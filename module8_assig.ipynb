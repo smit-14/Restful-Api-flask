{
  "nbformat": 4,
  "nbformat_minor": 0,
  "metadata": {
    "colab": {
      "provenance": []
    },
    "kernelspec": {
      "name": "python3",
      "display_name": "Python 3"
    },
    "language_info": {
      "name": "python"
    }
  },
  "cells": [
    {
      "cell_type": "markdown",
      "source": [
        "**THEORY QUESTIONS**"
      ],
      "metadata": {
        "id": "lMIYm6e_vFaZ"
      }
    },
    {
      "cell_type": "markdown",
      "source": [
        "1. What is a RESTful API?\n",
        "- A RESTful API (Representational State Transfer API) is a web service that follows REST principles, allowing systems to communicate using standard HTTP methods. It provides a stateless architecture where each request contains all necessary information, and responses are typically in JSON or XML format. RESTful APIs use standard HTTP methods such as GET, POST, PUT, DELETE, and PATCH to perform CRUD (Create, Read, Update, Delete) operations.\n",
        "\n",
        "2. Explain the concept of API specification.\n",
        "- An API specification is a standardized document or format that defines the structure, request methods, response types, and authentication mechanisms of an API. It ensures consistency and interoperability between different systems. Common API specifications include:\n",
        "\n",
        "  - OpenAPI (Swagger): Defines RESTful APIs in a machine-readable format.\n",
        "\n",
        "  - RAML (RESTful API Modeling Language): Provides a structured way to describe APIs.\n",
        "\n",
        "  - GraphQL Schema: Defines queries, mutations, and types in a GraphQL API.\n",
        "\n",
        "3. What is Flask, and why is it popular for building APIs?\n",
        "- Flask is a lightweight Python web framework used for building APIs and web applications. It is popular because:\n",
        "\n",
        "  - It is easy to learn and use.\n",
        "\n",
        "  - It follows a minimalistic design, allowing developers to add only the necessary components.\n",
        "\n",
        "  - It has built-in support for routing, request handling, and templating.\n",
        "\n",
        "  - It supports extensions for database integration, authentication, and more.\n",
        "\n",
        "4. What is routing in Flask?\n",
        "- Routing in Flask is the process of mapping URLs (web addresses) to specific functions in a web application. This is done using the @app.route() decorator, which binds a URL to a function.\n",
        "\n",
        "  - Example:\n",
        "    from flask import Flask\n",
        "\n",
        "    app = Flask(__name__)\n",
        "\n",
        "    @app.route('/')\n",
        "    def home():\n",
        "        return \"Welcome to Flask!\"\n",
        "\n",
        "    if __name__ == '__main__':\n",
        "        app.run(debug=True)\n",
        "\n",
        "  - Here, the / route is mapped to the home function, which returns a response when accessed.\n",
        "\n",
        "5. How do you create a simple Flask application?\n",
        "- To create a basic Flask application:\n",
        "\n",
        "  - Install Flask:\n",
        "\n",
        "    pip install flask\n",
        "  - Create a Python file (app.py) with the following code:\n",
        "\n",
        "    from flask import Flask\n",
        "\n",
        "    app = Flask(__name__)\n",
        "\n",
        "    @app.route('/')\n",
        "    def home():\n",
        "        return \"Hello, Flask!\"\n",
        "\n",
        "    if __name__ == '__main__':\n",
        "        app.run(debug=True)\n",
        "  - Run the application:\n",
        "\n",
        "    python app.py\n",
        "    Open http://127.0.0.1:5000/ in a browser to see the output.\n",
        "\n",
        "6. What are HTTP methods used in RESTful APIs?\n",
        "- GET: Retrieves data from the server.\n",
        "\n",
        "- POST: Submits new data to the server.\n",
        "\n",
        "- PUT: Updates existing data (replaces it entirely).\n",
        "\n",
        "- PATCH: Partially updates existing data.\n",
        "\n",
        "- DELETE: Removes data from the server.\n",
        "\n",
        "7. What is the purpose of the @app.route() decorator in Flask?\n",
        "- The @app.route() decorator in Flask is used to define URL routes and link them to specific functions. When a user accesses the given URL, the associated function is executed, and its response is returned.\n",
        "\n",
        "  - Example:\n",
        "    @app.route('/hello')\n",
        "    \n",
        "    def hello():\n",
        "        return \"Hello, World!\"\n",
        "\n",
        "8. What is the difference between GET and POST HTTP methods?\n",
        "![image.png](data:image/png;base64,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)\n",
        "\n",
        "- GET Request: GET /users/1 retrieves user data.\n",
        "\n",
        "- POST Request: POST /users creates a new user with data in the request body.\n",
        "\n",
        "9. How do you handle errors in Flask APIs?\n",
        "- Error handling in Flask APIs can be done using:\n",
        "\n",
        "- Try-Except Blocks: Catch exceptions in functions.\n",
        "\n",
        "- Flask Error Handlers: Define custom error responses.\n",
        "\n",
        "  - Example:\n",
        "    from flask import Flask, jsonify\n",
        "\n",
        "    app = Flask(__name__)\n",
        "\n",
        "    @app.errorhandler(404)\n",
        "    def not_found(error):\n",
        "        return jsonify({\"error\": \"Not Found\"}), 404\n",
        "\n",
        "10. How do you connect Flask to a SQL database?\n",
        "- Flask can connect to a SQL database using Flask-SQLAlchemy:\n",
        "  \n",
        "  from flask_sqlalchemy import SQLAlchemy\n",
        "\n",
        "  app.config['SQLALCHEMY_DATABASE_URI'] = 'sqlite:///database.db'\n",
        "  \n",
        "  db = SQLAlchemy(app)\n",
        "\n",
        "11. What is the role of Flask-SQLAlchemy?\n",
        "- Flask-SQLAlchemy is an ORM (Object Relational Mapper) that simplifies database interactions in Flask applications. It allows developers to work with databases using Python classes instead of raw SQL queries.\n",
        "\n",
        "12. What are Flask blueprints, and how are they useful?\n",
        "- Flask blueprints allow modularization of applications by separating different functionalities into multiple files. This improves code organization and reusability.\n",
        "\n",
        "13. What is the purpose of Flask’s request object?\n",
        "- The request object in Flask allows access to incoming request data, including headers, parameters, and JSON payloads.\n",
        "\n",
        "  - Example:\n",
        "    from flask import request\n",
        "\n",
        "    @app.route('/data', methods=['POST'])\n",
        "    def get_data():\n",
        "        data = request.json\n",
        "        return jsonify(data)\n",
        "\n",
        "14. How do you create a RESTful API endpoint using Flask?\n",
        "- from flask import Flask, jsonify\n",
        "\n",
        "    app = Flask(__name__)\n",
        "\n",
        "    @app.route('/api/users', methods=['GET'])\n",
        "    def get_users():\n",
        "        users = [{\"id\": 1, \"name\": \"John\"}]\n",
        "        return jsonify(users)\n",
        "\n",
        "    if __name__ == '__main__':\n",
        "        app.run(debug=True)\n",
        "\n",
        "15. What is the purpose of Flask’s jsonify() function?\n",
        "- It converts Python dictionaries into JSON format for API responses.\n",
        "\n",
        "16. Explain Flask’s url_for() function.\n",
        "- url_for() generates dynamic URLs for views, ensuring flexibility in route changes.\n",
        "\n",
        "  - Example:\n",
        "    url_for('home')\n",
        "\n",
        "17. How does Flask handle static files (CSS, JavaScript, etc.)?\n",
        "- Flask serves static files from the /static directory using:\n",
        "  <link rel=\"stylesheet\" href=\"{{ url_for('static', filename='style.css') }}\">\n",
        "\n",
        "18. What is an API specification, and how does it help in building a Flask API?\n",
        "- An API specification defines the API’s structure and behavior, ensuring standardization. Tools like OpenAPI help in documentation and testing.\n",
        "\n",
        "19. What are HTTP status codes, and why are they important in a Flask API?\n",
        "- HTTP status codes indicate request outcomes (e.g., 200 OK, 404 Not Found, 500 Internal Server Error).\n",
        "\n",
        "20. How do you handle POST requests in Flask?\n",
        "\n",
        "    @app.route('/submit', methods=['POST'])\n",
        "    def submit():\n",
        "        data = request.json\n",
        "        return jsonify({\"message\": \"Data received\", \"data\": data})\n",
        "\n",
        "21. How would you secure a Flask API?\n",
        "- Use authentication (JWT, OAuth).\n",
        "\n",
        "- Implement rate limiting to prevent abuse.\n",
        "\n",
        "- Use CORS to control cross-origin requests.\n",
        "\n",
        "- Validate input data to prevent injections.\n",
        "\n",
        "22. What is the significance of the Flask-RESTful extension?\n",
        "- Flask-RESTful simplifies API development by adding resource-based routing and request parsing.\n",
        "\n",
        "23. What is the role of Flask’s session object?\n",
        "- The session object stores user session data across multiple requests using cookies."
      ],
      "metadata": {
        "id": "v9nFgUBnrVYi"
      }
    },
    {
      "cell_type": "markdown",
      "source": [
        " **Practical** **Questions**"
      ],
      "metadata": {
        "id": "RIQ2aqKw_vHT"
      }
    },
    {
      "cell_type": "markdown",
      "source": [
        " 1. How do you create a basic Flask application?"
      ],
      "metadata": {
        "id": "Tj5MzmI6_4v-"
      }
    },
    {
      "cell_type": "code",
      "source": [
        " from flask import Flask\n",
        "\n",
        "app = Flask(__name__)  # Initialize the Flask application\n",
        "\n",
        "@app.route(\"/\")  # Define the homepage route\n",
        "def home():\n",
        "    return \"Hello, Flask!\"\n",
        "\n",
        "if __name__ == \"__main__\":\n",
        "    app.run(debug=True)  # Run the application in debug mode"
      ],
      "metadata": {
        "id": "Sa1bvwXGA9Rj"
      },
      "execution_count": null,
      "outputs": []
    },
    {
      "cell_type": "markdown",
      "source": [
        "2. How do you serve static files like images or CSS in Flask?"
      ],
      "metadata": {
        "id": "o2PG8BQIBSqG"
      }
    },
    {
      "cell_type": "code",
      "source": [
        "from flask import Flask, render_template, send_from_directory\n",
        "\n",
        "app = Flask(__name__)\n",
        "\n",
        "@app.route(\"/\")\n",
        "def home():\n",
        "    return render_template(\"index.html\")\n",
        "\n",
        "# Serve static files directly (optional route)\n",
        "@app.route('/static/<path:filename>')\n",
        "def serve_static(filename):\n",
        "    return send_from_directory('static', filename)\n",
        "\n",
        "if __name__ == \"__main__\":\n",
        "    app.run(debug=True)\n"
      ],
      "metadata": {
        "id": "1BT9X7GU_0cJ"
      },
      "execution_count": null,
      "outputs": []
    },
    {
      "cell_type": "markdown",
      "source": [
        "3.  How do you define different routes with different HTTP methods in Flask?"
      ],
      "metadata": {
        "id": "v28y4YYuCHRL"
      }
    },
    {
      "cell_type": "code",
      "source": [
        "from flask import Flask, request\n",
        "\n",
        "app = Flask(__name__)\n",
        "\n",
        "# Default GET Route\n",
        "@app.route(\"/\")\n",
        "def home():\n",
        "    return \"Welcome to Flask!\"\n",
        "\n",
        "# Handling both GET and POST\n",
        "@app.route(\"/submit\", methods=[\"GET\", \"POST\"])\n",
        "def submit():\n",
        "    if request.method == \"POST\":\n",
        "        return \"Form submitted using POST method!\"\n",
        "    return \"Submit your form using a POST request.\"\n",
        "\n",
        "# Handling PUT and DELETE\n",
        "@app.route(\"/update\", methods=[\"PUT\"])\n",
        "def update():\n",
        "    return \"Data updated using PUT request.\"\n",
        "\n",
        "@app.route(\"/delete\", methods=[\"DELETE\"])\n",
        "def delete():\n",
        "    return \"Data deleted using DELETE request.\"\n",
        "\n",
        "if __name__ == \"__main__\":\n",
        "    app.run(debug=True)"
      ],
      "metadata": {
        "id": "buISdVKxCbhJ"
      },
      "execution_count": null,
      "outputs": []
    },
    {
      "cell_type": "markdown",
      "source": [
        "4. How do you render HTML templates in Flask?"
      ],
      "metadata": {
        "id": "8XZeW-oZCcfv"
      }
    },
    {
      "cell_type": "code",
      "source": [
        "from flask import Flask, render_template\n",
        "\n",
        "app = Flask(__name__)\n",
        "\n",
        "# Home Route\n",
        "@app.route(\"/\")\n",
        "def home():\n",
        "    return render_template(\"index.html\")\n",
        "\n",
        "# About Page Route\n",
        "@app.route(\"/about\")\n",
        "def about():\n",
        "    return render_template(\"about.html\")\n",
        "\n",
        "# Dynamic User Page Route\n",
        "@app.route(\"/user/<name>\")\n",
        "def user(name):\n",
        "    return render_template(\"user.html\", username=name)\n",
        "\n",
        "if __name__ == \"__main__\":\n",
        "    app.run(debug=True)"
      ],
      "metadata": {
        "id": "GMEhjOIrC_Xi"
      },
      "execution_count": null,
      "outputs": []
    },
    {
      "cell_type": "markdown",
      "source": [
        "5. How can you generate URLs for routes in Flask using url_for?"
      ],
      "metadata": {
        "id": "w3nGARGbDAem"
      }
    },
    {
      "cell_type": "code",
      "source": [
        "from flask import Flask, url_for\n",
        "\n",
        "app = Flask(__name__)\n",
        "\n",
        "@app.route(\"/\")\n",
        "def home():\n",
        "    return \"Welcome to the Home Page!\"\n",
        "\n",
        "@app.route(\"/about\")\n",
        "def about():\n",
        "    return \"This is the About Page.\"\n",
        "\n",
        "# Generating URLs in Python\n",
        "with app.test_request_context():\n",
        "    print(url_for('home'))  # Outputs: /\n",
        "    print(url_for('about')) # Outputs: /about"
      ],
      "metadata": {
        "id": "RLt4T-tuDUaP"
      },
      "execution_count": null,
      "outputs": []
    },
    {
      "cell_type": "markdown",
      "source": [
        "6. How do you handle forms in Flask?"
      ],
      "metadata": {
        "id": "1MR_5__cDVco"
      }
    },
    {
      "cell_type": "code",
      "source": [
        "from flask import Flask, request\n",
        "\n",
        "app = Flask(__name__)\n",
        "\n",
        "# Route to handle form submission\n",
        "@app.route(\"/\", methods=[\"GET\", \"POST\"])\n",
        "def handle_form():\n",
        "    if request.method == \"POST\":\n",
        "        name = request.form.get(\"name\")  # Retrieve form input\n",
        "        return f\"Hello, {name}!\"\n",
        "\n",
        "    # Simple form as HTML inside Python\n",
        "    return '''\n",
        "        <form method=\"POST\">\n",
        "            <label for=\"name\">Enter your name:</label>\n",
        "            <input type=\"text\" id=\"name\" name=\"name\" required>\n",
        "            <button type=\"submit\">Submit</button>\n",
        "        </form>\n",
        "    '''\n",
        "\n",
        "if __name__ == \"__main__\":\n",
        "    app.run(debug=True)"
      ],
      "metadata": {
        "id": "DNWaKBucDh47"
      },
      "execution_count": null,
      "outputs": []
    },
    {
      "cell_type": "markdown",
      "source": [
        "7. How can you validate form data in Flask?"
      ],
      "metadata": {
        "id": "Uh_5m-0VDi9W"
      }
    },
    {
      "cell_type": "code",
      "source": [
        "from flask import Flask, request\n",
        "\n",
        "app = Flask(__name__)\n",
        "\n",
        "@app.route(\"/\", methods=[\"GET\", \"POST\"])\n",
        "def form():\n",
        "    if request.method == \"POST\":\n",
        "        name = request.form.get(\"name\")\n",
        "        age = request.form.get(\"age\")\n",
        "\n",
        "        # Simple validation\n",
        "        if not name:\n",
        "            return \"Error: Name is required!\"\n",
        "        if not age.isdigit():\n",
        "            return \"Error: Age must be a number!\"\n",
        "\n",
        "        return f\"Hello {name}, you are {age} years old!\"\n",
        "\n",
        "    return '''\n",
        "        <form method=\"POST\">\n",
        "            Name: <input type=\"text\" name=\"name\" required>\n",
        "            Age: <input type=\"text\" name=\"age\" required>\n",
        "            <button type=\"submit\">Submit</button>\n",
        "        </form>\n",
        "    '''\n",
        "\n",
        "if __name__ == \"__main__\":\n",
        "    app.run(debug=True)"
      ],
      "metadata": {
        "id": "0iQ-a4qwDzVa"
      },
      "execution_count": null,
      "outputs": []
    },
    {
      "cell_type": "markdown",
      "source": [
        "8.  How do you manage sessions in Flask?"
      ],
      "metadata": {
        "id": "UOZhAlptD0KK"
      }
    },
    {
      "cell_type": "code",
      "source": [
        "from flask import Flask, session, request, redirect, url_for\n",
        "\n",
        "app = Flask(__name__)\n",
        "app.secret_key = \"supersecretkey\"  # Required for session security\n",
        "\n",
        "@app.route(\"/\")\n",
        "def home():\n",
        "    if \"username\" in session:\n",
        "        return f\"Welcome back, {session['username']}!\"\n",
        "    return \"You are not logged in. <a href='/login'>Login</a>\"\n",
        "\n",
        "@app.route(\"/login\", methods=[\"GET\", \"POST\"])\n",
        "def login():\n",
        "    if request.method == \"POST\":\n",
        "        username = request.form.get(\"username\")\n",
        "        session[\"username\"] = username  # Store in session\n",
        "        return redirect(url_for(\"home\"))\n",
        "\n",
        "    return '''\n",
        "        <form method=\"POST\">\n",
        "            <input type=\"text\" name=\"username\" placeholder=\"Enter Username\" required>\n",
        "            <button type=\"submit\">Login</button>\n",
        "        </form>\n",
        "    '''\n",
        "\n",
        "@app.route(\"/logout\")\n",
        "def logout():\n",
        "    session.pop(\"username\", None)  # Remove session data\n",
        "    return redirect(url_for(\"home\"))\n",
        "\n",
        "if __name__ == \"__main__\":\n",
        "    app.run(debug=True)"
      ],
      "metadata": {
        "id": "SI7CccagEA2c"
      },
      "execution_count": null,
      "outputs": []
    },
    {
      "cell_type": "markdown",
      "source": [
        "9. How do you redirect to a different route in Flask?"
      ],
      "metadata": {
        "id": "_jlhSxgMECFK"
      }
    },
    {
      "cell_type": "code",
      "source": [
        "from flask import Flask, redirect, url_for\n",
        "\n",
        "app = Flask(__name__)\n",
        "\n",
        "@app.route(\"/\")\n",
        "def home():\n",
        "    return \"Welcome to the Home Page!\"\n",
        "\n",
        "@app.route(\"/go-to-about\")\n",
        "def go_to_about():\n",
        "    return redirect(url_for(\"about\"))  # Redirects to the 'about' route\n",
        "\n",
        "@app.route(\"/about\")\n",
        "def about():\n",
        "    return \"This is the About Page!\"\n",
        "\n",
        "if __name__ == \"__main__\":\n",
        "    app.run(debug=True)"
      ],
      "metadata": {
        "id": "p8zAz7DfENMj"
      },
      "execution_count": null,
      "outputs": []
    },
    {
      "cell_type": "markdown",
      "source": [
        "10. How do you handle errors in Flask (e.g., 404)?"
      ],
      "metadata": {
        "id": "-JGV6yECEOCx"
      }
    },
    {
      "cell_type": "code",
      "source": [
        "from flask import Flask\n",
        "\n",
        "app = Flask(__name__)\n",
        "\n",
        "@app.errorhandler(404)\n",
        "def page_not_found(error):\n",
        "    return \"Oops! Page not found. Go <a href='/'>Home</a>.\", 404\n",
        "\n",
        "@app.route(\"/\")\n",
        "def home():\n",
        "    return \"Welcome to the Home Page!\"\n",
        "\n",
        "if __name__ == \"__main__\":\n",
        "    app.run(debug=True)"
      ],
      "metadata": {
        "id": "eEyb2QSxEYYC"
      },
      "execution_count": null,
      "outputs": []
    },
    {
      "cell_type": "markdown",
      "source": [
        "11. How do you structure a Flask app using Blueprints?"
      ],
      "metadata": {
        "id": "bvjUH-isEZuS"
      }
    },
    {
      "cell_type": "code",
      "source": [
        "from flask import Flask, Blueprint\n",
        "\n",
        "app = Flask(__name__)\n",
        "\n",
        "# ---- User Blueprint ----\n",
        "user_bp = Blueprint(\"user\", __name__)\n",
        "\n",
        "@user_bp.route(\"/profile\")\n",
        "def profile():\n",
        "    return \"Welcome to the user profile page!\"\n",
        "\n",
        "@user_bp.route(\"/settings\")\n",
        "def settings():\n",
        "    return \"User settings page!\"\n",
        "\n",
        "app.register_blueprint(user_bp, url_prefix=\"/user\")\n",
        "\n",
        "# ---- Admin Blueprint ----\n",
        "admin_bp = Blueprint(\"admin\", __name__)\n",
        "\n",
        "@admin_bp.route(\"/dashboard\")\n",
        "def dashboard():\n",
        "    return \"Welcome to the admin dashboard!\"\n",
        "\n",
        "@admin_bp.route(\"/reports\")\n",
        "def reports():\n",
        "    return \"Admin reports page!\"\n",
        "\n",
        "app.register_blueprint(admin_bp, url_prefix=\"/admin\")\n",
        "\n",
        "# ---- Main Route ----\n",
        "@app.route(\"/\")\n",
        "def home():\n",
        "    return \"Welcome to the Home Page!\"\n",
        "\n",
        "if __name__ == \"__main__\":\n",
        "    app.run(debug=True)"
      ],
      "metadata": {
        "id": "v6XA4IuOEr6A"
      },
      "execution_count": null,
      "outputs": []
    },
    {
      "cell_type": "markdown",
      "source": [
        "12. How do you define a custom Jinja filter in Flask?"
      ],
      "metadata": {
        "id": "A1IfIKyVEuJZ"
      }
    },
    {
      "cell_type": "code",
      "source": [
        "from flask import Flask, render_template_string\n",
        "\n",
        "app = Flask(__name__)\n",
        "\n",
        "# Custom Jinja filter\n",
        "@app.template_filter(\"reverse_string\")\n",
        "def reverse_string(s):\n",
        "    return s[::-1]\n",
        "\n",
        "@app.route(\"/\")\n",
        "def home():\n",
        "    return render_template_string(\"<p>Reversed: {{ 'Flask' | reverse_string }}</p>\")\n",
        "\n",
        "if __name__ == \"__main__\":\n",
        "    app.run(debug=True)"
      ],
      "metadata": {
        "id": "zRPlmfjZE87i"
      },
      "execution_count": null,
      "outputs": []
    },
    {
      "cell_type": "markdown",
      "source": [
        "13.  How can you redirect with query parameters in Flask?"
      ],
      "metadata": {
        "id": "61_IFPcJE9nq"
      }
    },
    {
      "cell_type": "code",
      "source": [
        "from flask import Flask, redirect, url_for, request\n",
        "\n",
        "app = Flask(__name__)\n",
        "\n",
        "@app.route(\"/\")\n",
        "def home():\n",
        "    return \"Welcome to the Home Page!\"\n",
        "\n",
        "@app.route(\"/search\")\n",
        "def search():\n",
        "    query = request.args.get(\"q\", \"No query provided\")\n",
        "    return f\"Search Results for: {query}\"\n",
        "\n",
        "@app.route(\"/redirect-search\")\n",
        "def redirect_search():\n",
        "    return redirect(url_for(\"search\", q=\"flask tutorial\"))  # Redirect with query\n",
        "\n",
        "if __name__ == \"__main__\":\n",
        "    app.run(debug=True)"
      ],
      "metadata": {
        "id": "t0d6lHM5FHDz"
      },
      "execution_count": null,
      "outputs": []
    },
    {
      "cell_type": "markdown",
      "source": [
        "14. How do you return JSON responses in Flask?"
      ],
      "metadata": {
        "id": "7CdL-TtjFLi8"
      }
    },
    {
      "cell_type": "code",
      "source": [
        "from flask import Flask, jsonify\n",
        "\n",
        "app = Flask(__name__)\n",
        "\n",
        "@app.route(\"/api/data\")\n",
        "def get_data():\n",
        "    data = {\"name\": \"Flask\", \"version\": \"2.0\", \"status\": \"success\"}\n",
        "    return jsonify(data)  # Converts dictionary to JSON\n",
        "\n",
        "if __name__ == \"__main__\":\n",
        "    app.run(debug=True)"
      ],
      "metadata": {
        "id": "3gKYlM-SFVWa"
      },
      "execution_count": null,
      "outputs": []
    },
    {
      "cell_type": "markdown",
      "source": [
        "15. How do you capture URL parameters in Flask?"
      ],
      "metadata": {
        "id": "GPxVGVBOFWj_"
      }
    },
    {
      "cell_type": "code",
      "source": [
        "from flask import Flask\n",
        "\n",
        "app = Flask(__name__)\n",
        "\n",
        "@app.route(\"/user/<username>\")\n",
        "def show_user(username):\n",
        "    return f\"Hello, {username}!\"\n",
        "\n",
        "if __name__ == \"__main__\":\n",
        "    app.run(debug=True)"
      ],
      "metadata": {
        "id": "hLySoF9dFkK0"
      },
      "execution_count": null,
      "outputs": []
    }
  ]
}